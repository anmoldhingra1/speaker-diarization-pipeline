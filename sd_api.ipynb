{
 "cells": [
  {
   "cell_type": "code",
   "execution_count": 1,
   "metadata": {},
   "outputs": [
    {
     "name": "stderr",
     "output_type": "stream",
     "text": [
      "Using cache found in /home/ubuntu/.cache/torch/hub/pyannote_pyannote-audio_develop\n",
      "Using cache found in /home/ubuntu/.cache/torch/hub/pyannote_pyannote-audio_master\n",
      "Using cache found in /home/ubuntu/.cache/torch/hub/pyannote_pyannote-audio_master\n",
      "Using cache found in /home/ubuntu/.cache/torch/hub/pyannote_pyannote-audio_master\n",
      "Using cache found in /home/ubuntu/.cache/torch/hub/pyannote_pyannote-audio_master\n"
     ]
    }
   ],
   "source": [
    "import torch\n",
    "pipeline = torch.hub.load('pyannote/pyannote-audio:develop', 'dia_ami')"
   ]
  },
  {
   "cell_type": "code",
   "execution_count": 9,
   "metadata": {},
   "outputs": [],
   "source": [
    "#pipeline.sad_scores"
   ]
  },
  {
   "cell_type": "code",
   "execution_count": 8,
   "metadata": {},
   "outputs": [
    {
     "data": {
      "text/plain": [
       "'emb_ami'"
      ]
     },
     "execution_count": 8,
     "metadata": {},
     "output_type": "execute_result"
    }
   ],
   "source": [
    "pipeline.embedding"
   ]
  },
  {
   "cell_type": "code",
   "execution_count": 5,
   "metadata": {},
   "outputs": [],
   "source": [
    "diarization = pipeline({'uri': '0EQ1OMG4I941PB7OMQJBOHR2T4000UG3_2019-08-30_11-19-42_11257_0EQ1OMG4I941PB7OMQJBOHR2T4000UG3_006e02e61d6747de_22256-00D501D6-101F25A2-00000001.wav','audio': '/home/ubuntu/voice/199_1199_2248947000_03-Jan-20-08-47-22 (1).wav'})"
   ]
  },
  {
   "cell_type": "code",
   "execution_count": 6,
   "metadata": {},
   "outputs": [],
   "source": [
    "with open('audio.rttm', 'w') as f:\n",
    "    diarization.write_rttm(f)"
   ]
  },
  {
   "cell_type": "code",
   "execution_count": 7,
   "metadata": {},
   "outputs": [
    {
     "name": "stdout",
     "output_type": "stream",
     "text": [
      "Speaker \"A\" speaks between t=0.0s and t=1.2s.\n",
      "Speaker \"A\" speaks between t=2.0s and t=7.4s.\n",
      "Speaker \"42\" speaks between t=7.4s and t=7.5s.\n",
      "Speaker \"A\" speaks between t=8.5s and t=22.0s.\n",
      "Speaker \"A\" speaks between t=23.1s and t=33.4s.\n",
      "Speaker \"47\" speaks between t=34.5s and t=34.9s.\n",
      "Speaker \"A\" speaks between t=38.1s and t=39.5s.\n",
      "Speaker \"A\" speaks between t=43.3s and t=50.2s.\n",
      "Speaker \"A\" speaks between t=51.0s and t=89.7s.\n",
      "Speaker \"A\" speaks between t=91.0s and t=91.9s.\n",
      "Speaker \"57\" speaks between t=93.0s and t=93.2s.\n",
      "Speaker \"A\" speaks between t=94.0s and t=95.0s.\n",
      "Speaker \"A\" speaks between t=95.7s and t=95.9s.\n",
      "Speaker \"A\" speaks between t=97.4s and t=98.5s.\n",
      "Speaker \"A\" speaks between t=100.0s and t=103.9s.\n",
      "Speaker \"A\" speaks between t=104.6s and t=105.9s.\n",
      "Speaker \"A\" speaks between t=107.5s and t=109.0s.\n",
      "Speaker \"A\" speaks between t=111.1s and t=111.8s.\n",
      "Speaker \"A\" speaks between t=112.5s and t=115.8s.\n",
      "Speaker \"A\" speaks between t=117.5s and t=135.0s.\n",
      "Speaker \"A\" speaks between t=135.7s and t=142.5s.\n",
      "Speaker \"A\" speaks between t=143.9s and t=156.6s.\n",
      "Speaker \"A\" speaks between t=158.0s and t=163.1s.\n",
      "Speaker \"A\" speaks between t=164.3s and t=168.3s.\n",
      "Speaker \"A\" speaks between t=170.0s and t=170.6s.\n",
      "Speaker \"A\" speaks between t=171.4s and t=174.0s.\n",
      "Speaker \"31\" speaks between t=175.8s and t=177.0s.\n",
      "Speaker \"A\" speaks between t=178.5s and t=179.2s.\n",
      "Speaker \"A\" speaks between t=180.0s and t=186.1s.\n",
      "Speaker \"A\" speaks between t=187.2s and t=203.9s.\n",
      "Speaker \"A\" speaks between t=205.0s and t=213.1s.\n",
      "Speaker \"A\" speaks between t=214.2s and t=221.0s.\n"
     ]
    }
   ],
   "source": [
    "for turn, _, speaker in diarization.itertracks(yield_label=True):\n",
    "    print(f'Speaker \"{speaker}\" speaks between t={turn.start:.1f}s and t={turn.end:.1f}s.')"
   ]
  },
  {
   "cell_type": "code",
   "execution_count": null,
   "metadata": {},
   "outputs": [],
   "source": []
  }
 ],
 "metadata": {
  "kernelspec": {
   "display_name": "Python 3",
   "language": "python",
   "name": "python3"
  },
  "language_info": {
   "codemirror_mode": {
    "name": "ipython",
    "version": 3
   },
   "file_extension": ".py",
   "mimetype": "text/x-python",
   "name": "python",
   "nbconvert_exporter": "python",
   "pygments_lexer": "ipython3",
   "version": "3.6.8"
  }
 },
 "nbformat": 4,
 "nbformat_minor": 4
}
